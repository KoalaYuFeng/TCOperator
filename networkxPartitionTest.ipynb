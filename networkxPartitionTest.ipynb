{
 "cells": [
  {
   "cell_type": "code",
   "execution_count": 1,
   "id": "076751b8",
   "metadata": {},
   "outputs": [],
   "source": [
    "import networkx as nx\n",
    "import numpy as np\n",
    "import pandas as pd\n",
    "from scipy import sparse\n",
    "from scipy.sparse import csr_matrix\n",
    "from scipy.sparse import coo_matrix\n",
    "from time import perf_counter"
   ]
  },
  {
   "cell_type": "code",
   "execution_count": 2,
   "id": "19544af6",
   "metadata": {},
   "outputs": [],
   "source": [
    "filename = './datasets/partitionTest.txt'"
   ]
  },
  {
   "cell_type": "code",
   "execution_count": 4,
   "id": "0ad6939e",
   "metadata": {},
   "outputs": [],
   "source": [
    "t0 = perf_counter()\n",
    "testgraph = nx.read_edgelist(filename, comments='#', delimiter=None, create_using=None, nodetype=None, data=True, edgetype=None, encoding='utf-8')\n",
    "t_load = perf_counter() - t0"
   ]
  },
  {
   "cell_type": "code",
   "execution_count": 5,
   "id": "1f518713",
   "metadata": {},
   "outputs": [
    {
     "name": "stdout",
     "output_type": "stream",
     "text": [
      "3\n"
     ]
    }
   ],
   "source": [
    "print(int(sum(nx.triangles(testgraph).values())/3))"
   ]
  },
  {
   "cell_type": "code",
   "execution_count": 6,
   "id": "c68c044d",
   "metadata": {},
   "outputs": [
    {
     "name": "stdout",
     "output_type": "stream",
     "text": [
      "(6, 6)\n"
     ]
    },
    {
     "name": "stderr",
     "output_type": "stream",
     "text": [
      "/tmp/ipykernel_772469/1967707738.py:1: FutureWarning: adjacency_matrix will return a scipy.sparse array instead of a matrix in Networkx 3.0.\n",
      "  full_adj = nx.adjacency_matrix(testgraph)\n"
     ]
    }
   ],
   "source": [
    "full_adj = nx.adjacency_matrix(testgraph)\n",
    "print(full_adj.shape)"
   ]
  },
  {
   "cell_type": "code",
   "execution_count": 7,
   "id": "a079b076",
   "metadata": {},
   "outputs": [
    {
     "name": "stdout",
     "output_type": "stream",
     "text": [
      "  (0, 1)\t1\n",
      "  (0, 2)\t1\n",
      "  (0, 3)\t1\n",
      "  (1, 0)\t1\n",
      "  (1, 4)\t1\n",
      "  (2, 0)\t1\n",
      "  (2, 3)\t1\n",
      "  (2, 5)\t1\n",
      "  (3, 0)\t1\n",
      "  (3, 2)\t1\n",
      "  (3, 4)\t1\n",
      "  (3, 5)\t1\n",
      "  (4, 1)\t1\n",
      "  (4, 3)\t1\n",
      "  (4, 5)\t1\n",
      "  (5, 2)\t1\n",
      "  (5, 3)\t1\n",
      "  (5, 4)\t1\n"
     ]
    }
   ],
   "source": [
    "print(full_adj)"
   ]
  },
  {
   "cell_type": "code",
   "execution_count": 8,
   "id": "e9eeb8ca",
   "metadata": {},
   "outputs": [
    {
     "name": "stdout",
     "output_type": "stream",
     "text": [
      "(6, 6)\n"
     ]
    }
   ],
   "source": [
    "full_adj_dense = full_adj.todense()\n",
    "print(full_adj_dense.shape)"
   ]
  },
  {
   "cell_type": "code",
   "execution_count": 9,
   "id": "ca24ca05",
   "metadata": {},
   "outputs": [
    {
     "name": "stdout",
     "output_type": "stream",
     "text": [
      "[[0 1 1 1 0 0]\n",
      " [1 0 0 0 1 0]\n",
      " [1 0 0 1 0 1]\n",
      " [1 0 1 0 1 1]\n",
      " [0 1 0 1 0 1]\n",
      " [0 0 1 1 1 0]]\n"
     ]
    }
   ],
   "source": [
    "print(full_adj_dense)"
   ]
  },
  {
   "cell_type": "code",
   "execution_count": 10,
   "id": "8f3c9f8f",
   "metadata": {},
   "outputs": [],
   "source": [
    "for i in range(0, full_adj_dense.shape[0]):\n",
    "    for j in range(0, full_adj_dense.shape[1]):\n",
    "        if i >= j:\n",
    "            full_adj_dense[i, j] = 0"
   ]
  },
  {
   "cell_type": "code",
   "execution_count": 11,
   "id": "a849c730",
   "metadata": {},
   "outputs": [
    {
     "name": "stdout",
     "output_type": "stream",
     "text": [
      "[[0 1 1 1 0 0]\n",
      " [0 0 0 0 1 0]\n",
      " [0 0 0 1 0 1]\n",
      " [0 0 0 0 1 1]\n",
      " [0 0 0 0 0 1]\n",
      " [0 0 0 0 0 0]]\n"
     ]
    }
   ],
   "source": [
    "print(full_adj_dense)"
   ]
  },
  {
   "cell_type": "code",
   "execution_count": 13,
   "id": "5d1a9f34",
   "metadata": {},
   "outputs": [
    {
     "name": "stdout",
     "output_type": "stream",
     "text": [
      "6 3\n",
      "(6, 3)\n"
     ]
    }
   ],
   "source": [
    "part_1_adj = full_adj_dense[:, 0:3]\n",
    "part_2_adj = full_adj_dense[:, 3:full_adj_dense.shape[1]]\n",
    "print(part_1_adj.shape[0], part_1_adj.shape[1])\n",
    "print(part_2_adj.shape)"
   ]
  },
  {
   "cell_type": "code",
   "execution_count": 14,
   "id": "1918c972",
   "metadata": {},
   "outputs": [
    {
     "name": "stdout",
     "output_type": "stream",
     "text": [
      "(6, 6)\n",
      "(6, 6)\n"
     ]
    }
   ],
   "source": [
    "part_1_matrix = np.zeros((full_adj.shape))\n",
    "part_2_matrix = np.zeros((full_adj.shape))\n",
    "print(part_1_matrix.shape)\n",
    "print(part_2_matrix.shape)"
   ]
  },
  {
   "cell_type": "code",
   "execution_count": 15,
   "id": "5f5fb7b2",
   "metadata": {},
   "outputs": [],
   "source": [
    "for i in range (0, part_1_adj.shape[0]):\n",
    "    for j in range(0, part_1_adj.shape[1]):\n",
    "        part_1_matrix[i,j] = part_1_adj[i,j]\n",
    "        \n",
    "for i in range (0, part_2_adj.shape[0]):\n",
    "    for j in range(0, part_2_adj.shape[1]):\n",
    "        part_2_matrix[i, j+3] = part_2_adj[i,j]"
   ]
  },
  {
   "cell_type": "code",
   "execution_count": 16,
   "id": "fe2ee1c2",
   "metadata": {},
   "outputs": [
    {
     "name": "stdout",
     "output_type": "stream",
     "text": [
      "[[0. 1. 1. 0. 0. 0.]\n",
      " [0. 0. 0. 0. 0. 0.]\n",
      " [0. 0. 0. 0. 0. 0.]\n",
      " [0. 0. 0. 0. 0. 0.]\n",
      " [0. 0. 0. 0. 0. 0.]\n",
      " [0. 0. 0. 0. 0. 0.]]\n",
      "[[0. 0. 0. 1. 0. 0.]\n",
      " [0. 0. 0. 0. 1. 0.]\n",
      " [0. 0. 0. 1. 0. 1.]\n",
      " [0. 0. 0. 0. 1. 1.]\n",
      " [0. 0. 0. 0. 0. 1.]\n",
      " [0. 0. 0. 0. 0. 0.]]\n"
     ]
    }
   ],
   "source": [
    "print(part_1_matrix)\n",
    "print(part_2_matrix)"
   ]
  },
  {
   "cell_type": "code",
   "execution_count": 17,
   "id": "f36d6241",
   "metadata": {},
   "outputs": [],
   "source": [
    "part_1_graph = nx.from_numpy_matrix(part_1_matrix)\n",
    "part_2_graph = nx.from_numpy_matrix(part_2_matrix)"
   ]
  },
  {
   "cell_type": "code",
   "execution_count": 20,
   "id": "a989a660",
   "metadata": {},
   "outputs": [
    {
     "name": "stdout",
     "output_type": "stream",
     "text": [
      "part_1 triangles:  0\n"
     ]
    }
   ],
   "source": [
    "count = 0\n",
    "triangle = []\n",
    "for edge_list in testgraph.edges:\n",
    "#     if int(edge_list[1]) < 2000:\n",
    "    srcSet = part_1_graph.adj[int(edge_list[0])]\n",
    "    dstSet = part_1_graph.adj[int(edge_list[1])]\n",
    "    for vertexID in dstSet:\n",
    "        if (vertexID in srcSet) and (vertexID > int(edge_list[1])):\n",
    "            count += 1\n",
    "            triangle.append((edge_list[0], edge_list[1], vertexID))\n",
    "print(\"part_1 triangles: \", count) "
   ]
  },
  {
   "cell_type": "code",
   "execution_count": 19,
   "id": "33abbe38",
   "metadata": {},
   "outputs": [
    {
     "name": "stdout",
     "output_type": "stream",
     "text": [
      "part_2 triangles:  7\n",
      "Triangles in total: 7\n"
     ]
    }
   ],
   "source": [
    "count_1 = 0\n",
    "triangle_1 = []\n",
    "for edge_list in testgraph.edges:\n",
    "#     if int(edge_list[1]) >= 2000:\n",
    "    srcSet = part_2_graph.adj[int(edge_list[0])]\n",
    "    dstSet = part_2_graph.adj[int(edge_list[1])]\n",
    "    for vertexID in dstSet:\n",
    "        if (vertexID in srcSet) and (vertexID > int(edge_list[1])):\n",
    "            count_1 += 1\n",
    "            triangle_1.append((edge_list[0], edge_list[1], vertexID))\n",
    "print(\"part_2 triangles: \", count_1)\n",
    "print(\"Triangles in total:\", count + count_1)"
   ]
  },
  {
   "cell_type": "code",
   "execution_count": null,
   "id": "7dbb2822",
   "metadata": {},
   "outputs": [],
   "source": []
  }
 ],
 "metadata": {
  "kernelspec": {
   "display_name": "Python 3 (ipykernel)",
   "language": "python",
   "name": "python3"
  },
  "language_info": {
   "codemirror_mode": {
    "name": "ipython",
    "version": 3
   },
   "file_extension": ".py",
   "mimetype": "text/x-python",
   "name": "python",
   "nbconvert_exporter": "python",
   "pygments_lexer": "ipython3",
   "version": "3.8.15"
  }
 },
 "nbformat": 4,
 "nbformat_minor": 5
}
