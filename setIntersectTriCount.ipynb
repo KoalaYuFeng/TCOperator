{
 "cells": [
  {
   "cell_type": "code",
   "execution_count": 130,
   "id": "94325316",
   "metadata": {},
   "outputs": [],
   "source": [
    "import networkx as nx\n",
    "import numpy as np\n",
    "import pandas as pd\n",
    "from scipy import sparse\n",
    "from scipy.sparse import csr_matrix\n",
    "from scipy.sparse import coo_matrix\n",
    "from time import perf_counter"
   ]
  },
  {
   "cell_type": "code",
   "execution_count": 131,
   "id": "eac02d4b",
   "metadata": {},
   "outputs": [],
   "source": [
    "filename = './datasets/facebook_combined.txt'"
   ]
  },
  {
   "cell_type": "code",
   "execution_count": 132,
   "id": "f829c86a",
   "metadata": {},
   "outputs": [],
   "source": [
    "t0 = perf_counter()\n",
    "testgraph = nx.read_edgelist(filename, comments='#', delimiter=None, create_using=None, nodetype=None, data=True, edgetype=None, encoding='utf-8')\n",
    "t_load = perf_counter() - t0"
   ]
  },
  {
   "cell_type": "code",
   "execution_count": 133,
   "id": "1f2c66a2",
   "metadata": {},
   "outputs": [],
   "source": [
    "def triCount(graph):\n",
    "    count = 0\n",
    "    triangle = []\n",
    "    for srcId, nbrs in graph.adjacency():\n",
    "        srcSet = graph.adj[srcId]\n",
    "#         print(srcSet, '\\n')\n",
    "        for destId in srcSet:\n",
    "            if (destId > srcId):\n",
    "#                 destSet = nx.all_neighbors(graph, destId)\n",
    "                destSet = graph.adj[destId]\n",
    "                for vertexId in destSet:\n",
    "                    if (vertexId in srcSet) and (vertexId > destId):\n",
    "                        count += 1\n",
    "                        triangle.append((srcId, destId, vertexId))\n",
    "#         print(\"=================================================\")\n",
    "#     print(\"Triangle Count: \", count)\n",
    "#     print(triangle)\n",
    "    return count, triangle"
   ]
  },
  {
   "cell_type": "code",
   "execution_count": 134,
   "id": "db72ef09",
   "metadata": {},
   "outputs": [],
   "source": [
    "t1 = perf_counter()\n",
    "triCount, trianlges = triCount(testgraph)\n",
    "t_proc = perf_counter() - t1"
   ]
  },
  {
   "cell_type": "code",
   "execution_count": 135,
   "id": "c2bd6809",
   "metadata": {},
   "outputs": [
    {
     "name": "stdout",
     "output_type": "stream",
     "text": [
      "num triangles:  1612010\n",
      "Load file time:  0.2424506200477481\n",
      "Processing time:  2.983856722712517\n"
     ]
    }
   ],
   "source": [
    "print('num triangles: ', triCount)\n",
    "print(\"Load file time: \", t_load)\n",
    "print(\"Processing time: \", t_proc)\n",
    "# print(\"Counted Triangles: \\n\", trianlges)"
   ]
  },
  {
   "cell_type": "code",
   "execution_count": 136,
   "id": "1190ce84",
   "metadata": {},
   "outputs": [
    {
     "data": {
      "text/plain": [
       "4039"
      ]
     },
     "execution_count": 136,
     "metadata": {},
     "output_type": "execute_result"
    }
   ],
   "source": [
    "len(list(testgraph.nodes()))"
   ]
  },
  {
   "cell_type": "code",
   "execution_count": 137,
   "id": "daaf0d90",
   "metadata": {},
   "outputs": [
    {
     "name": "stdout",
     "output_type": "stream",
     "text": [
      "0\n"
     ]
    }
   ],
   "source": [
    "print(len(list(nx.selfloop_edges(testgraph))))"
   ]
  },
  {
   "cell_type": "code",
   "execution_count": 138,
   "id": "1f55bf26",
   "metadata": {},
   "outputs": [],
   "source": [
    "part_1_graph = nx.DiGraph()\n",
    "for edges in testgraph.edges:\n",
    "#     print(edges[1])\n",
    "    if int(edges[1]) < 2000:\n",
    "        part_1_graph.add_edge(*edges)"
   ]
  },
  {
   "cell_type": "code",
   "execution_count": 139,
   "id": "a75ef837",
   "metadata": {},
   "outputs": [],
   "source": [
    "part_2_graph = nx.DiGraph()\n",
    "for edges in testgraph.edges:\n",
    "    if int(edges[1]) >= 2000:\n",
    "        part_2_graph.add_edge(*edges)"
   ]
  },
  {
   "cell_type": "code",
   "execution_count": 140,
   "id": "64970541",
   "metadata": {},
   "outputs": [
    {
     "name": "stdout",
     "output_type": "stream",
     "text": [
      "2165\n",
      "2149\n",
      "DiGraph with 2165 nodes and 38618 edges\n",
      "DiGraph with 2149 nodes and 49616 edges\n",
      "Graph with 4039 nodes and 88234 edges\n"
     ]
    }
   ],
   "source": [
    "print(len(list(part_1_graph.nodes())))\n",
    "print(len(list(part_2_graph.nodes())))\n",
    "\n",
    "print(part_1_graph)\n",
    "print(part_2_graph)\n",
    "print(testgraph)"
   ]
  },
  {
   "cell_type": "code",
   "execution_count": 141,
   "id": "de0b68f2",
   "metadata": {},
   "outputs": [
    {
     "name": "stdout",
     "output_type": "stream",
     "text": [
      "524751\n"
     ]
    }
   ],
   "source": [
    "count = 0\n",
    "triangle = []\n",
    "for edge_list in testgraph.edges:\n",
    "    ## if int(edge_list[1]) < 2000:\n",
    "    if (part_1_graph.has_node(edge_list[0])) and (part_1_graph.has_node(edge_list[1])):\n",
    "        srcSet = part_1_graph.adj[edge_list[0]]\n",
    "        dstSet = part_1_graph.adj[edge_list[1]]\n",
    "        for vertexID in dstSet:\n",
    "            if (vertexID in srcSet):\n",
    "                count += 1\n",
    "                triangle.append((edge_list[0], edge_list[1], vertexID))\n",
    "print(count)  \n",
    "## print(triangle)                              "
   ]
  },
  {
   "cell_type": "code",
   "execution_count": 142,
   "id": "50bb38a6",
   "metadata": {},
   "outputs": [
    {
     "name": "stdout",
     "output_type": "stream",
     "text": [
      "1087259\n"
     ]
    }
   ],
   "source": [
    "count_1 = 0\n",
    "triangle = []\n",
    "for edge_list in testgraph.edges:\n",
    "    ## if int(edge_list[1]) >= 2000:\n",
    "    if (part_2_graph.has_node(edge_list[0])) and (part_2_graph.has_node(edge_list[1])):\n",
    "        srcSet = part_2_graph.adj[edge_list[0]]\n",
    "        dstSet = part_2_graph.adj[edge_list[1]]\n",
    "        for vertexID in dstSet:\n",
    "            if (vertexID in srcSet):\n",
    "                count_1 += 1\n",
    "                triangle.append((edge_list[0], edge_list[1], vertexID))\n",
    "print(count_1)\n",
    "## print(triangle)  "
   ]
  },
  {
   "cell_type": "code",
   "execution_count": 143,
   "id": "da3352de",
   "metadata": {},
   "outputs": [
    {
     "name": "stdout",
     "output_type": "stream",
     "text": [
      "graph partition result :  1612010\n"
     ]
    }
   ],
   "source": [
    "print(\"graph partition result : \", count + count_1)"
   ]
  },
  {
   "cell_type": "code",
   "execution_count": 144,
   "id": "51054a64",
   "metadata": {},
   "outputs": [
    {
     "name": "stdout",
     "output_type": "stream",
     "text": [
      "2149\n"
     ]
    }
   ],
   "source": [
    "tri_graph_2 = nx.intersection(part_2_graph, testgraph)\n",
    "print(len(list(tri_graph_2.nodes())))"
   ]
  },
  {
   "cell_type": "code",
   "execution_count": 145,
   "id": "c6a457c8",
   "metadata": {},
   "outputs": [],
   "source": [
    "# number_of_tri_p1 = sum(nx.triangles(part_1_graph).values())/3\n",
    "# print(number_of_tri_p1)"
   ]
  },
  {
   "cell_type": "code",
   "execution_count": 146,
   "id": "733cf227",
   "metadata": {},
   "outputs": [],
   "source": [
    "# number_of_tri_p2 = sum(nx.triangles(part_2_graph).values())/3\n",
    "# print(number_of_tri_p2)"
   ]
  },
  {
   "cell_type": "code",
   "execution_count": 147,
   "id": "fa8f10b9",
   "metadata": {},
   "outputs": [],
   "source": [
    "# print(number_of_tri_p1 + number_of_tri_p2)"
   ]
  },
  {
   "cell_type": "code",
   "execution_count": 148,
   "id": "7eec7273",
   "metadata": {},
   "outputs": [
    {
     "name": "stdout",
     "output_type": "stream",
     "text": [
      "1612010.0\n"
     ]
    }
   ],
   "source": [
    "print(sum(nx.triangles(testgraph).values())/3)"
   ]
  },
  {
   "cell_type": "raw",
   "id": "d74f1bc9",
   "metadata": {},
   "source": [
    "# cit-Patents.txt\n",
    "# num triangles:  7515023\n",
    "# Load file time:  64.85925229731947\n",
    "# Processing time:  179.24616279965267"
   ]
  },
  {
   "cell_type": "raw",
   "id": "6f070cd4",
   "metadata": {},
   "source": [
    "soc-LiveJournal1.txt\n",
    "num triangles:  285730264\n",
    "Load file time:  214.33697667811066\n",
    "Processing time:  3310.295435674023"
   ]
  },
  {
   "cell_type": "raw",
   "id": "fb7ff3cd",
   "metadata": {},
   "source": [
    "as-skitter.txt\n",
    "num triangles:  28769868\n",
    "Load file time:  31.616216123104095\n",
    "Processing time:  10299.806696090382"
   ]
  }
 ],
 "metadata": {
  "kernelspec": {
   "display_name": "Python 3.9.12 ('base')",
   "language": "python",
   "name": "python3"
  },
  "language_info": {
   "codemirror_mode": {
    "name": "ipython",
    "version": 3
   },
   "file_extension": ".py",
   "mimetype": "text/x-python",
   "name": "python",
   "nbconvert_exporter": "python",
   "pygments_lexer": "ipython3",
   "version": "3.9.12"
  },
  "vscode": {
   "interpreter": {
    "hash": "af5396d4be46ec3020c80c084ef73256e98ba9fce54ee804ceb4dbb094831307"
   }
  }
 },
 "nbformat": 4,
 "nbformat_minor": 5
}
