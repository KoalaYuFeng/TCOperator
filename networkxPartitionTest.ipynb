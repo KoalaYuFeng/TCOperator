{
 "cells": [
  {
   "cell_type": "code",
   "execution_count": 1,
   "id": "0c273d44",
   "metadata": {},
   "outputs": [],
   "source": [
    "import networkx as nx\n",
    "import numpy as np\n",
    "import pandas as pd\n",
    "from scipy import sparse\n",
    "from scipy.sparse import csr_matrix\n",
    "from scipy.sparse import coo_matrix\n",
    "from time import perf_counter"
   ]
  },
  {
   "cell_type": "code",
   "execution_count": 2,
   "id": "6c05dd4f",
   "metadata": {},
   "outputs": [],
   "source": [
    "filename = './datasets/facebook_combined.txt'"
   ]
  },
  {
   "cell_type": "code",
   "execution_count": 3,
   "id": "ed42537c",
   "metadata": {},
   "outputs": [],
   "source": [
    "t0 = perf_counter()\n",
    "testgraph = nx.read_edgelist(filename, comments='#', delimiter=None, create_using=None, nodetype=None, data=True, edgetype=None, encoding='utf-8')\n",
    "t_load = perf_counter() - t0"
   ]
  },
  {
   "cell_type": "code",
   "execution_count": 4,
   "id": "4751cca7",
   "metadata": {},
   "outputs": [
    {
     "name": "stdout",
     "output_type": "stream",
     "text": [
      "(4039, 4039)\n"
     ]
    },
    {
     "name": "stderr",
     "output_type": "stream",
     "text": [
      "/tmp/ipykernel_706344/1967707738.py:1: FutureWarning: adjacency_matrix will return a scipy.sparse array instead of a matrix in Networkx 3.0.\n",
      "  full_adj = nx.adjacency_matrix(testgraph)\n"
     ]
    }
   ],
   "source": [
    "full_adj = nx.adjacency_matrix(testgraph)\n",
    "print(full_adj.shape)"
   ]
  },
  {
   "cell_type": "code",
   "execution_count": 5,
   "id": "7ba82c17",
   "metadata": {},
   "outputs": [
    {
     "name": "stdout",
     "output_type": "stream",
     "text": [
      "(4039, 4039)\n"
     ]
    }
   ],
   "source": [
    "full_adj_dense = full_adj.todense()\n",
    "print(full_adj_dense.shape)"
   ]
  },
  {
   "cell_type": "code",
   "execution_count": 6,
   "id": "1bafea02",
   "metadata": {},
   "outputs": [
    {
     "name": "stdout",
     "output_type": "stream",
     "text": [
      "4039 2000\n",
      "(4039, 2038)\n"
     ]
    }
   ],
   "source": [
    "part_1_adj = full_adj_dense[:, 0:2000]\n",
    "part_2_adj = full_adj_dense[:, 2001:full_adj_dense.shape[1]]\n",
    "print(part_1_adj.shape[0], part_1_adj.shape[1])\n",
    "print(part_2_adj.shape)"
   ]
  },
  {
   "cell_type": "code",
   "execution_count": 7,
   "id": "e9f3fc29",
   "metadata": {},
   "outputs": [
    {
     "name": "stdout",
     "output_type": "stream",
     "text": [
      "(4039, 4039)\n",
      "(4039, 4039)\n"
     ]
    }
   ],
   "source": [
    "part_1_matrix = np.zeros((full_adj.shape))\n",
    "part_2_matrix = np.zeros((full_adj.shape))\n",
    "print(part_1_matrix.shape)\n",
    "print(part_2_matrix.shape)"
   ]
  },
  {
   "cell_type": "code",
   "execution_count": 8,
   "id": "5b188955",
   "metadata": {},
   "outputs": [],
   "source": [
    "for i in range (0, part_1_adj.shape[0]):\n",
    "    for j in range(0, part_1_adj.shape[1]):\n",
    "        part_1_matrix[i,j] = part_1_adj[i,j]\n",
    "        \n",
    "for i in range (0, part_2_adj.shape[0]):\n",
    "    for j in range(0, part_2_adj.shape[1]):\n",
    "        part_2_matrix[i, j] = part_2_adj[i,j]"
   ]
  },
  {
   "cell_type": "code",
   "execution_count": 9,
   "id": "940680c2",
   "metadata": {},
   "outputs": [],
   "source": [
    "part_1_graph = nx.from_numpy_matrix(part_1_matrix)\n",
    "part_2_graph = nx.from_numpy_matrix(part_2_matrix)"
   ]
  },
  {
   "cell_type": "code",
   "execution_count": 10,
   "id": "48ee4917",
   "metadata": {},
   "outputs": [
    {
     "name": "stdout",
     "output_type": "stream",
     "text": [
      "part_1 triangles:  208139\n"
     ]
    }
   ],
   "source": [
    "count = 0\n",
    "triangle = []\n",
    "for edge_list in testgraph.edges:\n",
    "#     if int(edge_list[1]) < 2000:\n",
    "    srcSet = part_1_graph.adj[int(edge_list[0])]\n",
    "    dstSet = part_1_graph.adj[int(edge_list[1])]\n",
    "    for vertexID in dstSet:\n",
    "        if (vertexID in srcSet): # and (vertexID > int(edge_list[1])):\n",
    "            count += 1\n",
    "            triangle.append((edge_list[0], edge_list[1], vertexID))\n",
    "print(\"part_1 triangles: \", count) "
   ]
  },
  {
   "cell_type": "code",
   "execution_count": 11,
   "id": "d6d9a96f",
   "metadata": {},
   "outputs": [
    {
     "name": "stdout",
     "output_type": "stream",
     "text": [
      "part_2 triangles:  9954\n"
     ]
    },
    {
     "ename": "NameError",
     "evalue": "name 'count_1' is not defined",
     "output_type": "error",
     "traceback": [
      "\u001b[0;31m---------------------------------------------------------------------------\u001b[0m",
      "\u001b[0;31mNameError\u001b[0m                                 Traceback (most recent call last)",
      "Cell \u001b[0;32mIn [11], line 12\u001b[0m\n\u001b[1;32m     10\u001b[0m             triangle_2\u001b[38;5;241m.\u001b[39mappend((edge_list[\u001b[38;5;241m0\u001b[39m], edge_list[\u001b[38;5;241m1\u001b[39m], vertexID))\n\u001b[1;32m     11\u001b[0m \u001b[38;5;28mprint\u001b[39m(\u001b[38;5;124m\"\u001b[39m\u001b[38;5;124mpart_2 triangles: \u001b[39m\u001b[38;5;124m\"\u001b[39m, count_2)\n\u001b[0;32m---> 12\u001b[0m \u001b[38;5;28mprint\u001b[39m(\u001b[38;5;124m\"\u001b[39m\u001b[38;5;124mTriangles in total:\u001b[39m\u001b[38;5;124m\"\u001b[39m, count \u001b[38;5;241m+\u001b[39m \u001b[43mcount_1\u001b[49m \u001b[38;5;241m+\u001b[39m count_2)\n",
      "\u001b[0;31mNameError\u001b[0m: name 'count_1' is not defined"
     ]
    }
   ],
   "source": [
    "count_2 = 0\n",
    "triangle_2 = []\n",
    "for edge_list in testgraph.edges:\n",
    "#     if int(edge_list[1]) >= 2000:\n",
    "    srcSet = part_1_graph.adj[int(edge_list[0])]\n",
    "    dstSet = part_2_graph.adj[int(edge_list[1])]\n",
    "    for vertexID in dstSet:\n",
    "        if (vertexID in srcSet): # and (vertexID > int(edge_list[1])):\n",
    "            count_2 += 1\n",
    "            triangle_2.append((edge_list[0], edge_list[1], vertexID))\n",
    "print(\"part_2 triangles: \", count_2)\n",
    "print(\"Triangles in total:\", count + count_1 + count_2)"
   ]
  }
 ],
 "metadata": {
  "kernelspec": {
   "display_name": "Python 3 (ipykernel)",
   "language": "python",
   "name": "python3"
  },
  "language_info": {
   "codemirror_mode": {
    "name": "ipython",
    "version": 3
   },
   "file_extension": ".py",
   "mimetype": "text/x-python",
   "name": "python",
   "nbconvert_exporter": "python",
   "pygments_lexer": "ipython3",
   "version": "3.8.15"
  }
 },
 "nbformat": 4,
 "nbformat_minor": 5
}
