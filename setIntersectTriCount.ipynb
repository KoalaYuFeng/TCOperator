{
 "cells": [
  {
   "cell_type": "code",
   "execution_count": 130,
   "id": "94325316",
   "metadata": {},
   "outputs": [],
   "source": [
    "import networkx as nx\n",
    "import numpy as np\n",
    "import pandas as pd\n",
    "from scipy import sparse\n",
    "from scipy.sparse import csr_matrix\n",
    "from scipy.sparse import coo_matrix\n",
    "from time import perf_counter"
   ]
  },
  {
   "cell_type": "code",
   "execution_count": 131,
   "id": "eac02d4b",
   "metadata": {},
   "outputs": [],
   "source": [
    "filename = './datasets/facebook_combined.txt'"
   ]
  },
  {
   "cell_type": "code",
   "execution_count": 132,
   "id": "f829c86a",
   "metadata": {},
   "outputs": [],
   "source": [
    "t0 = perf_counter()\n",
    "testgraph = nx.read_edgelist(filename, comments='#', delimiter=None, create_using=None, nodetype=None, data=True, edgetype=None, encoding='utf-8')\n",
    "t_load = perf_counter() - t0"
   ]
  },
  {
   "cell_type": "code",
<<<<<<< HEAD
   "execution_count": 4,
   "id": "b32d6361",
   "metadata": {},
   "outputs": [
    {
     "name": "stdout",
     "output_type": "stream",
     "text": [
      "(4039, 4039)\n"
     ]
    },
    {
     "name": "stderr",
     "output_type": "stream",
     "text": [
      "/tmp/ipykernel_704948/1967707738.py:1: FutureWarning: adjacency_matrix will return a scipy.sparse array instead of a matrix in Networkx 3.0.\n",
      "  full_adj = nx.adjacency_matrix(testgraph)\n"
     ]
    }
   ],
   "source": [
    "full_adj = nx.adjacency_matrix(testgraph)\n",
    "print(full_adj.shape)"
   ]
  },
  {
   "cell_type": "code",
   "execution_count": 5,
   "id": "a2d17af9",
   "metadata": {},
   "outputs": [],
   "source": [
    "full_adj_dense = full_adj.todense()"
   ]
  },
  {
   "cell_type": "code",
   "execution_count": 6,
   "id": "c0399238",
   "metadata": {},
   "outputs": [
    {
     "name": "stdout",
     "output_type": "stream",
     "text": [
      "(4039, 4039)\n"
     ]
    }
   ],
   "source": [
    "print(full_adj_dense.shape)"
   ]
  },
  {
   "cell_type": "code",
   "execution_count": 7,
   "id": "e7a6fcbf",
   "metadata": {},
   "outputs": [],
   "source": [
    "part_1_adj = full_adj_dense[:, 0:2000]\n",
    "part_2_adj = full_adj_dense[:, 2001:full_adj_dense.shape[1]]"
   ]
  },
  {
   "cell_type": "code",
   "execution_count": 8,
   "id": "380cd1f5",
   "metadata": {},
   "outputs": [
    {
     "name": "stdout",
     "output_type": "stream",
     "text": [
      "4039 2000\n",
      "(4039, 2038)\n"
     ]
    }
   ],
   "source": [
    "print(part_1_adj.shape[0], part_1_adj.shape[1])\n",
    "print(part_2_adj.shape)"
   ]
  },
  {
   "cell_type": "code",
   "execution_count": 9,
   "id": "089417ee",
   "metadata": {},
   "outputs": [
    {
     "name": "stdout",
     "output_type": "stream",
     "text": [
      "(4039, 4039)\n",
      "(4039, 4039)\n"
     ]
    }
   ],
   "source": [
    "part_1_matrix = np.zeros((full_adj.shape))\n",
    "part_2_matrix = np.zeros((full_adj.shape))\n",
    "print(part_1_matrix.shape)\n",
    "print(part_2_matrix.shape)"
   ]
  },
  {
   "cell_type": "code",
   "execution_count": 10,
   "id": "9f7a1f70",
   "metadata": {},
   "outputs": [],
   "source": [
    "for i in range (0, part_1_adj.shape[0]):\n",
    "    for j in range(0, part_1_adj.shape[1]):\n",
    "        part_1_matrix[i,j] = part_1_adj[i,j]"
   ]
  },
  {
   "cell_type": "code",
   "execution_count": 11,
   "id": "bb8cc9ea",
   "metadata": {},
   "outputs": [],
   "source": [
    "for i in range (0, part_2_adj.shape[0]):\n",
    "    for j in range(0, part_2_adj.shape[1]):\n",
    "        part_2_matrix[i, j] = part_2_adj[i,j]"
   ]
  },
  {
   "cell_type": "code",
   "execution_count": 12,
   "id": "23515f32",
   "metadata": {},
   "outputs": [],
   "source": [
    "part_1_graph = nx.from_numpy_matrix(part_1_matrix)"
   ]
  },
  {
   "cell_type": "code",
   "execution_count": 13,
   "id": "48295220",
   "metadata": {},
   "outputs": [],
   "source": [
    "part_2_graph = nx.from_numpy_matrix(part_2_matrix)"
   ]
  },
  {
   "cell_type": "code",
   "execution_count": null,
=======
   "execution_count": 133,
>>>>>>> 8f83bb8859772a9c482641910faa6bc11c16cbe2
   "id": "1f2c66a2",
   "metadata": {},
   "outputs": [],
   "source": [
    "def triCount(graph):\n",
    "    count = 0\n",
    "    triangle = []\n",
    "    for srcId, nbrs in graph.adjacency():\n",
    "        srcSet = graph.adj[srcId]\n",
    "#         print(srcSet, '\\n')\n",
    "        for destId in srcSet:\n",
    "            if (destId > srcId):\n",
    "#                 destSet = nx.all_neighbors(graph, destId)\n",
    "                destSet = graph.adj[destId]\n",
    "                for vertexId in destSet:\n",
    "                    if (vertexId in srcSet) and (vertexId > destId):\n",
    "                        count += 1\n",
    "                        triangle.append((srcId, destId, vertexId))\n",
    "#         print(\"=================================================\")\n",
    "#     print(\"Triangle Count: \", count)\n",
    "#     print(triangle)\n",
    "    return count, triangle"
   ]
  },
  {
   "cell_type": "code",
<<<<<<< HEAD
   "execution_count": null,
=======
   "execution_count": 134,
>>>>>>> 8f83bb8859772a9c482641910faa6bc11c16cbe2
   "id": "db72ef09",
   "metadata": {},
   "outputs": [],
   "source": [
    "t1 = perf_counter()\n",
    "triCount, trianlges = triCount(testgraph)\n",
    "t_proc = perf_counter() - t1"
   ]
  },
  {
   "cell_type": "code",
<<<<<<< HEAD
   "execution_count": null,
   "id": "c2bd6809",
   "metadata": {},
   "outputs": [],
=======
   "execution_count": 135,
   "id": "c2bd6809",
   "metadata": {},
   "outputs": [
    {
     "name": "stdout",
     "output_type": "stream",
     "text": [
      "num triangles:  1612010\n",
      "Load file time:  0.2424506200477481\n",
      "Processing time:  2.983856722712517\n"
     ]
    }
   ],
>>>>>>> 8f83bb8859772a9c482641910faa6bc11c16cbe2
   "source": [
    "print('num triangles: ', triCount)\n",
    "print(\"Load file time: \", t_load)\n",
    "print(\"Processing time: \", t_proc)\n",
    "# print(\"Counted Triangles: \\n\", trianlges)"
   ]
  },
  {
   "cell_type": "code",
<<<<<<< HEAD
   "execution_count": null,
   "id": "6302f1c0",
   "metadata": {},
   "outputs": [],
=======
   "execution_count": 136,
   "id": "1190ce84",
   "metadata": {},
   "outputs": [
    {
     "data": {
      "text/plain": [
       "4039"
      ]
     },
     "execution_count": 136,
     "metadata": {},
     "output_type": "execute_result"
    }
   ],
>>>>>>> 8f83bb8859772a9c482641910faa6bc11c16cbe2
   "source": [
    "len(list(testgraph.nodes()))"
   ]
  },
  {
   "cell_type": "code",
<<<<<<< HEAD
   "execution_count": null,
   "id": "c0f1864d",
=======
   "execution_count": 137,
   "id": "daaf0d90",
>>>>>>> 8f83bb8859772a9c482641910faa6bc11c16cbe2
   "metadata": {},
   "outputs": [],
   "source": [
    "print(len(list(nx.selfloop_edges(testgraph))))"
   ]
  },
  {
   "cell_type": "code",
<<<<<<< HEAD
   "execution_count": null,
   "id": "27eb8b09",
=======
   "execution_count": 138,
   "id": "1f55bf26",
>>>>>>> 8f83bb8859772a9c482641910faa6bc11c16cbe2
   "metadata": {},
   "outputs": [],
   "source": [
    "part_1_graph = nx.DiGraph()\n",
    "for edges in testgraph.edges:\n",
    "#     print(edges[1])\n",
    "    if int(edges[1]) < 2000:\n",
    "        part_1_graph.add_edge(*edges)"
   ]
  },
  {
   "cell_type": "code",
<<<<<<< HEAD
   "execution_count": null,
   "id": "a2b17c82",
=======
   "execution_count": 139,
   "id": "a75ef837",
>>>>>>> 8f83bb8859772a9c482641910faa6bc11c16cbe2
   "metadata": {},
   "outputs": [],
   "source": [
    "part_2_graph = nx.DiGraph()\n",
    "for edges in testgraph.edges:\n",
    "    if int(edges[1]) >= 2000:\n",
    "        part_2_graph.add_edge(*edges)"
   ]
  },
  {
   "cell_type": "code",
<<<<<<< HEAD
   "execution_count": null,
   "id": "5a6b66c7",
   "metadata": {},
   "outputs": [],
   "source": [
    "part_1_adj = nx.adjacency_matrix(part_1_graph)\n",
    "print(part_1_adj.shape)"
   ]
  },
  {
   "cell_type": "code",
   "execution_count": null,
   "id": "84dcde31",
   "metadata": {},
   "outputs": [],
   "source": [
    "part_2_adj = nx.adjacency_matrix(part_2_graph)\n",
    "print(part_2_adj.shape)"
   ]
  },
  {
   "cell_type": "code",
   "execution_count": 14,
   "id": "88d5085b",
=======
   "execution_count": 140,
   "id": "64970541",
>>>>>>> 8f83bb8859772a9c482641910faa6bc11c16cbe2
   "metadata": {},
   "outputs": [
    {
     "name": "stdout",
     "output_type": "stream",
     "text": [
<<<<<<< HEAD
      "4039\n",
      "4039\n"
=======
      "2165\n",
      "2149\n",
      "DiGraph with 2165 nodes and 38618 edges\n",
      "DiGraph with 2149 nodes and 49616 edges\n",
      "Graph with 4039 nodes and 88234 edges\n"
>>>>>>> 8f83bb8859772a9c482641910faa6bc11c16cbe2
     ]
    }
   ],
   "source": [
    "print(len(list(part_1_graph.nodes())))\n",
    "print(len(list(part_2_graph.nodes())))\n",
    "\n",
    "print(part_1_graph)\n",
    "print(part_2_graph)\n",
    "print(testgraph)"
   ]
  },
  {
   "cell_type": "code",
<<<<<<< HEAD
   "execution_count": 15,
   "id": "5d636ee8",
=======
   "execution_count": 141,
   "id": "de0b68f2",
>>>>>>> 8f83bb8859772a9c482641910faa6bc11c16cbe2
   "metadata": {},
   "outputs": [
    {
     "name": "stdout",
     "output_type": "stream",
     "text": [
<<<<<<< HEAD
      "part_1 triangles:  208139\n"
=======
      "524751\n"
>>>>>>> 8f83bb8859772a9c482641910faa6bc11c16cbe2
     ]
    }
   ],
   "source": [
    "count = 0\n",
    "triangle = []\n",
    "for edge_list in testgraph.edges:\n",
<<<<<<< HEAD
    "#     if int(edge_list[1]) < 2000:\n",
    "    srcSet = part_1_graph.adj[int(edge_list[0])]\n",
    "    dstSet = part_1_graph.adj[int(edge_list[1])]\n",
    "    for vertexID in dstSet:\n",
    "        if (vertexID in srcSet): # and (vertexID > int(edge_list[1])):\n",
    "            count += 1\n",
    "            triangle.append((edge_list[0], edge_list[1], vertexID))\n",
    "print(\"part_1 triangles: \", count)                                "
=======
    "    ## if int(edge_list[1]) < 2000:\n",
    "    if (part_1_graph.has_node(edge_list[0])) and (part_1_graph.has_node(edge_list[1])):\n",
    "        srcSet = part_1_graph.adj[edge_list[0]]\n",
    "        dstSet = part_1_graph.adj[edge_list[1]]\n",
    "        for vertexID in dstSet:\n",
    "            if (vertexID in srcSet):\n",
    "                count += 1\n",
    "                triangle.append((edge_list[0], edge_list[1], vertexID))\n",
    "print(count)  \n",
    "## print(triangle)                              "
>>>>>>> 8f83bb8859772a9c482641910faa6bc11c16cbe2
   ]
  },
  {
   "cell_type": "code",
<<<<<<< HEAD
   "execution_count": 16,
   "id": "e81ba363",
=======
   "execution_count": 142,
   "id": "50bb38a6",
>>>>>>> 8f83bb8859772a9c482641910faa6bc11c16cbe2
   "metadata": {},
   "outputs": [
    {
     "name": "stdout",
     "output_type": "stream",
     "text": [
<<<<<<< HEAD
      "part_2 triangles:  326879\n",
      "Triangles in total: 535018\n"
=======
      "1087259\n"
>>>>>>> 8f83bb8859772a9c482641910faa6bc11c16cbe2
     ]
    }
   ],
   "source": [
    "count_1 = 0\n",
    "triangle_1 = []\n",
    "for edge_list in testgraph.edges:\n",
    "#     if int(edge_list[1]) >= 2000:\n",
    "    srcSet = part_2_graph.adj[int(edge_list[0])]\n",
    "    dstSet = part_2_graph.adj[int(edge_list[1])]\n",
    "    for vertexID in dstSet:\n",
    "        if (vertexID in srcSet): # and (vertexID > int(edge_list[1])):\n",
    "            count_1 += 1\n",
    "            triangle_1.append((edge_list[0], edge_list[1], vertexID))\n",
    "print(\"part_2 triangles: \", count_1)\n",
    "print(\"Triangles in total:\", count + count_1)"
   ]
  },
  {
   "cell_type": "code",
   "execution_count": 17,
   "id": "68b1d0c9",
   "metadata": {},
   "outputs": [
    {
     "name": "stdout",
     "output_type": "stream",
     "text": [
      "part_2 triangles:  9954\n",
      "Triangles in total: 544972\n"
     ]
    }
   ],
   "source": [
    "count_2 = 0\n",
    "triangle_2 = []\n",
    "for edge_list in testgraph.edges:\n",
<<<<<<< HEAD
    "#     if int(edge_list[1]) >= 2000:\n",
    "    srcSet = part_1_graph.adj[int(edge_list[0])]\n",
    "    dstSet = part_2_graph.adj[int(edge_list[1])]\n",
    "    for vertexID in dstSet:\n",
    "        if (vertexID in srcSet): # and (vertexID > int(edge_list[1])):\n",
    "            count_2 += 1\n",
    "            triangle_2.append((edge_list[0], edge_list[1], vertexID))\n",
    "print(\"part_2 triangles: \", count_2)\n",
    "print(\"Triangles in total:\", count + count_1 + count_2)"
=======
    "    ## if int(edge_list[1]) >= 2000:\n",
    "    if (part_2_graph.has_node(edge_list[0])) and (part_2_graph.has_node(edge_list[1])):\n",
    "        srcSet = part_2_graph.adj[edge_list[0]]\n",
    "        dstSet = part_2_graph.adj[edge_list[1]]\n",
    "        for vertexID in dstSet:\n",
    "            if (vertexID in srcSet):\n",
    "                count_1 += 1\n",
    "                triangle.append((edge_list[0], edge_list[1], vertexID))\n",
    "print(count_1)\n",
    "## print(triangle)  "
   ]
  },
  {
   "cell_type": "code",
   "execution_count": 143,
   "id": "da3352de",
   "metadata": {},
   "outputs": [
    {
     "name": "stdout",
     "output_type": "stream",
     "text": [
      "graph partition result :  1612010\n"
     ]
    }
   ],
   "source": [
    "print(\"graph partition result : \", count + count_1)"
>>>>>>> 8f83bb8859772a9c482641910faa6bc11c16cbe2
   ]
  },
  {
   "cell_type": "code",
<<<<<<< HEAD
   "execution_count": null,
   "id": "7d695b71",
=======
   "execution_count": 144,
   "id": "51054a64",
>>>>>>> 8f83bb8859772a9c482641910faa6bc11c16cbe2
   "metadata": {},
   "outputs": [
    {
     "name": "stdout",
     "output_type": "stream",
     "text": [
      "2149\n"
     ]
    }
   ],
   "source": [
    "tri_graph_2 = nx.intersection(part_2_graph, testgraph)\n",
    "print(len(list(tri_graph_2.nodes())))"
   ]
  },
  {
   "cell_type": "code",
<<<<<<< HEAD
   "execution_count": null,
   "id": "8e1705b3",
=======
   "execution_count": 145,
   "id": "c6a457c8",
>>>>>>> 8f83bb8859772a9c482641910faa6bc11c16cbe2
   "metadata": {},
   "outputs": [],
   "source": [
    "# number_of_tri_p1 = sum(nx.triangles(part_1_graph).values())/3\n",
    "# print(number_of_tri_p1)"
   ]
  },
  {
   "cell_type": "code",
<<<<<<< HEAD
   "execution_count": null,
   "id": "91413635",
=======
   "execution_count": 146,
   "id": "733cf227",
>>>>>>> 8f83bb8859772a9c482641910faa6bc11c16cbe2
   "metadata": {},
   "outputs": [],
   "source": [
    "# number_of_tri_p2 = sum(nx.triangles(part_2_graph).values())/3\n",
    "# print(number_of_tri_p2)"
   ]
  },
  {
   "cell_type": "code",
<<<<<<< HEAD
   "execution_count": null,
   "id": "d00a933e",
=======
   "execution_count": 147,
   "id": "fa8f10b9",
>>>>>>> 8f83bb8859772a9c482641910faa6bc11c16cbe2
   "metadata": {},
   "outputs": [],
   "source": [
    "# print(number_of_tri_p1 + number_of_tri_p2)"
   ]
  },
  {
   "cell_type": "code",
<<<<<<< HEAD
   "execution_count": null,
   "id": "a2e6a9f1",
=======
   "execution_count": 148,
   "id": "7eec7273",
>>>>>>> 8f83bb8859772a9c482641910faa6bc11c16cbe2
   "metadata": {},
   "outputs": [
    {
     "name": "stdout",
     "output_type": "stream",
     "text": [
      "1612010.0\n"
     ]
    }
   ],
   "source": [
    "print(sum(nx.triangles(testgraph).values())/3)"
   ]
  },
  {
   "cell_type": "raw",
   "id": "d74f1bc9",
   "metadata": {},
   "source": [
    "# cit-Patents.txt\n",
    "# num triangles:  7515023\n",
    "# Load file time:  64.85925229731947\n",
    "# Processing time:  179.24616279965267"
   ]
  },
  {
   "cell_type": "raw",
   "id": "6f070cd4",
   "metadata": {},
   "source": [
    "soc-LiveJournal1.txt\n",
    "num triangles:  285730264\n",
    "Load file time:  214.33697667811066\n",
    "Processing time:  3310.295435674023"
   ]
  },
  {
   "cell_type": "raw",
   "id": "fb7ff3cd",
   "metadata": {},
   "source": [
    "as-skitter.txt\n",
    "num triangles:  28769868\n",
    "Load file time:  31.616216123104095\n",
    "Processing time:  10299.806696090382"
   ]
  }
 ],
 "metadata": {
  "kernelspec": {
   "display_name": "Python 3.9.12 ('base')",
   "language": "python",
   "name": "python3"
  },
  "language_info": {
   "codemirror_mode": {
    "name": "ipython",
    "version": 3
   },
   "file_extension": ".py",
   "mimetype": "text/x-python",
   "name": "python",
   "nbconvert_exporter": "python",
   "pygments_lexer": "ipython3",
   "version": "3.9.12"
  },
  "vscode": {
   "interpreter": {
    "hash": "af5396d4be46ec3020c80c084ef73256e98ba9fce54ee804ceb4dbb094831307"
   }
  }
 },
 "nbformat": 4,
 "nbformat_minor": 5
}
