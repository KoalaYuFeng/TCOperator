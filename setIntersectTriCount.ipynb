{
 "cells": [
  {
   "cell_type": "code",
   "execution_count": 1,
   "id": "94325316",
   "metadata": {},
   "outputs": [],
   "source": [
    "import networkx as nx\n",
    "import numpy as np\n",
    "import pandas as pd\n",
    "from scipy import sparse\n",
    "from scipy.sparse import csr_matrix\n",
    "from scipy.sparse import coo_matrix\n",
    "from time import perf_counter"
   ]
  },
  {
   "cell_type": "code",
   "execution_count": 2,
   "id": "eac02d4b",
   "metadata": {},
   "outputs": [],
   "source": [
    "filename = './datasets/as20000102.txt'"
   ]
  },
  {
   "cell_type": "code",
   "execution_count": 3,
   "id": "f829c86a",
   "metadata": {},
   "outputs": [],
   "source": [
    "t0 = perf_counter()\n",
    "testgraph = nx.read_edgelist(filename, comments='#', delimiter=None, create_using=None, nodetype=None, data=True, edgetype=None, encoding='utf-8')\n",
    "t_load = perf_counter() - t0"
   ]
  },
  {
   "cell_type": "code",
   "execution_count": 4,
   "id": "1f2c66a2",
   "metadata": {},
   "outputs": [],
   "source": [
    "def triCount(graph):\n",
    "    count = 0\n",
    "    triangle = []\n",
    "    for srcId, nbrs in graph.adjacency():\n",
    "        srcSet = graph.adj[srcId]\n",
    "#         print(srcSet, '\\n')\n",
    "        for destId in srcSet:\n",
    "            if (destId > srcId):\n",
    "#                 destSet = nx.all_neighbors(graph, destId)\n",
    "                destSet = graph.adj[destId]\n",
    "                for vertexId in destSet:\n",
    "                    if (vertexId in srcSet) and (vertexId > destId):\n",
    "                        count += 1\n",
    "                        triangle.append((srcId, destId, vertexId))\n",
    "#         print(\"=================================================\")\n",
    "#     print(\"Triangle Count: \", count)\n",
    "#     print(triangle)\n",
    "    return count, triangle"
   ]
  },
  {
   "cell_type": "code",
   "execution_count": 5,
   "id": "db72ef09",
   "metadata": {},
   "outputs": [],
   "source": [
    "t1 = perf_counter()\n",
    "triCount, trianlges = triCount(testgraph)\n",
    "t_proc = perf_counter() - t1"
   ]
  },
  {
   "cell_type": "code",
   "execution_count": 6,
   "id": "c2bd6809",
   "metadata": {},
   "outputs": [
    {
     "name": "stdout",
     "output_type": "stream",
     "text": [
      "num triangles:  6584\n",
      "Load file time:  0.06906050303950906\n",
      "Processing time:  0.5332640577107668\n"
     ]
    }
   ],
   "source": [
    "print('num triangles: ', triCount)\n",
    "print(\"Load file time: \", t_load)\n",
    "print(\"Processing time: \", t_proc)\n",
    "# print(\"Counted Triangles: \\n\", trianlges)"
   ]
  },
  {
   "cell_type": "raw",
   "id": "d74f1bc9",
   "metadata": {},
   "source": [
    "# cit-Patents.txt\n",
    "# num triangles:  7515023\n",
    "# Load file time:  64.85925229731947\n",
    "# Processing time:  179.24616279965267"
   ]
  },
  {
   "cell_type": "raw",
   "id": "6f070cd4",
   "metadata": {},
   "source": [
    "soc-LiveJournal1.txt\n",
    "num triangles:  285730264\n",
    "Load file time:  214.33697667811066\n",
    "Processing time:  3310.295435674023"
   ]
  },
  {
   "cell_type": "raw",
   "id": "fb7ff3cd",
   "metadata": {},
   "source": [
    "as-skitter.txt\n",
    "num triangles:  28769868\n",
    "Load file time:  31.616216123104095\n",
    "Processing time:  10299.806696090382"
   ]
  }
 ],
 "metadata": {
  "kernelspec": {
   "display_name": "Python 3 (ipykernel)",
   "language": "python",
   "name": "python3"
  },
  "language_info": {
   "codemirror_mode": {
    "name": "ipython",
    "version": 3
   },
   "file_extension": ".py",
   "mimetype": "text/x-python",
   "name": "python",
   "nbconvert_exporter": "python",
   "pygments_lexer": "ipython3",
   "version": "3.9.13"
  }
 },
 "nbformat": 4,
 "nbformat_minor": 5
}
