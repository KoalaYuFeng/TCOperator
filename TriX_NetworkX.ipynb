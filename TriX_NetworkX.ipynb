{
 "cells": [
  {
   "cell_type": "code",
   "execution_count": 36,
   "id": "0c273d44",
   "metadata": {},
   "outputs": [],
   "source": [
    "import networkx as nx\n",
    "import numpy as np\n",
    "import pandas as pd\n",
    "from scipy import sparse\n",
    "from scipy.sparse import csr_matrix\n",
    "from scipy.sparse import coo_matrix\n",
    "from time import perf_counter"
   ]
  },
  {
   "cell_type": "code",
   "execution_count": 37,
   "id": "6c05dd4f",
   "metadata": {},
   "outputs": [],
   "source": [
    "## filename = './datasets/facebook_combined.txt'\n",
    "filename = './datasets/amazon0302.mtx'"
   ]
  },
  {
   "cell_type": "code",
   "execution_count": 38,
   "id": "ed42537c",
   "metadata": {},
   "outputs": [],
   "source": [
    "t0 = perf_counter()\n",
    "testgraph = nx.read_edgelist(filename, comments='#', delimiter=None, create_using=nx.Graph, nodetype=None, data=True, edgetype=None, encoding='utf-8')\n",
    "t_load = perf_counter() - t0"
   ]
  },
  {
   "cell_type": "code",
   "execution_count": 39,
   "id": "4751cca7",
   "metadata": {},
   "outputs": [
    {
     "name": "stdout",
     "output_type": "stream",
     "text": [
      "[     0  16381  32763  49145  65527  81909  98291 114673 131055 147437\n",
      " 163819 180201 196583 212965 229347 245729 262111]\n"
     ]
    }
   ],
   "source": [
    "## define the partition index\n",
    "adj_matrix_dim = len(testgraph.nodes)\n",
    "partition_num = 16 ## can be set a variable\n",
    "partition_index = np.zeros(partition_num + 1, dtype=np.int32)\n",
    "for i in range(partition_num):\n",
    "    partition_index[i+1] = np.int32(adj_matrix_dim*(i+1)/partition_num)\n",
    "print(partition_index)"
   ]
  },
  {
   "cell_type": "code",
   "execution_count": 40,
   "id": "14e4179c",
   "metadata": {},
   "outputs": [
    {
     "name": "stdout",
     "output_type": "stream",
     "text": [
      "DiGraph with 24948 nodes and 63685 edges\n",
      "DiGraph with 32980 nodes and 58881 edges\n",
      "DiGraph with 37191 nodes and 58659 edges\n",
      "DiGraph with 40421 nodes and 58511 edges\n",
      "DiGraph with 43259 nodes and 58513 edges\n",
      "DiGraph with 43063 nodes and 58400 edges\n",
      "DiGraph with 45307 nodes and 58238 edges\n",
      "DiGraph with 45502 nodes and 57807 edges\n",
      "DiGraph with 45742 nodes and 57068 edges\n",
      "DiGraph with 45664 nodes and 56118 edges\n",
      "DiGraph with 45443 nodes and 54877 edges\n",
      "DiGraph with 44896 nodes and 53621 edges\n",
      "DiGraph with 43436 nodes and 52726 edges\n",
      "DiGraph with 41324 nodes and 51254 edges\n",
      "DiGraph with 37405 nodes and 50739 edges\n",
      "DiGraph with 30108 nodes and 50690 edges\n"
     ]
    }
   ],
   "source": [
    "## Get partition graph, maybe need to be parallel\n",
    "G_part = []\n",
    "for i in range(partition_num):\n",
    "    G_part.append(nx.DiGraph())\n",
    "\n",
    "for edge_list in testgraph.edges:\n",
    "    for i in range(partition_num):\n",
    "        if ((int(edge_list[1]) >= partition_index[i]) and (int(edge_list[1]) < partition_index[i+1])):\n",
    "            G_part[i].add_edge(edge_list[0], edge_list[1])\n",
    "\n",
    "for i in range(partition_num):\n",
    "    print(G_part[i])"
   ]
  },
  {
   "cell_type": "code",
   "execution_count": 41,
   "id": "dcfbcabe",
   "metadata": {},
   "outputs": [
    {
     "name": "stdout",
     "output_type": "stream",
     "text": [
      "717711\n"
     ]
    }
   ],
   "source": [
    "## triangle count in sub-graphs (need be parallel)\n",
    "triangle_count = 0\n",
    "node_triangle = np.zeros(len(testgraph.nodes))\n",
    "for g_index in range(partition_num): ## could be executed parallelly in different machines\n",
    "    for edge_list in testgraph.edges: ## traverse all the edges in the original graph\n",
    "        if ((G_part[g_index].has_node(edge_list[0])) and (G_part[g_index].has_node(edge_list[1]))):\n",
    "            srcSet = G_part[g_index].adj[edge_list[0]]\n",
    "            dstSet = G_part[g_index].adj[edge_list[1]]\n",
    "            for node_obj in srcSet:\n",
    "                if node_obj in dstSet:\n",
    "                    triangle_count += 1\n",
    "                    node_triangle[int(edge_list[0])] += 1\n",
    "                    node_triangle[int(edge_list[1])] += 1\n",
    "                    node_triangle[int(node_obj)] += 1\n",
    "\n",
    "print (triangle_count)\n",
    "## print (node_triangle)\n"
   ]
  },
  {
   "cell_type": "code",
   "execution_count": 42,
   "id": "53912243",
   "metadata": {},
   "outputs": [
    {
     "name": "stdout",
     "output_type": "stream",
     "text": [
      "717719\n"
     ]
    }
   ],
   "source": [
    "testgraph_golden = nx.read_edgelist(filename, comments='#', delimiter=None, create_using=None, nodetype=None, data=True, edgetype=None, encoding='utf-8')\n",
    "triangle_golden = nx.triangles(testgraph_golden)\n",
    "result_golden = int(sum(triangle_golden.values())/3)\n",
    "print (result_golden)\n",
    "## print (triangle_golden)"
   ]
  }
 ],
 "metadata": {
  "kernelspec": {
   "display_name": "Python 3.9.12 ('base')",
   "language": "python",
   "name": "python3"
  },
  "language_info": {
   "codemirror_mode": {
    "name": "ipython",
    "version": 3
   },
   "file_extension": ".py",
   "mimetype": "text/x-python",
   "name": "python",
   "nbconvert_exporter": "python",
   "pygments_lexer": "ipython3",
   "version": "3.9.12"
  },
  "vscode": {
   "interpreter": {
    "hash": "af5396d4be46ec3020c80c084ef73256e98ba9fce54ee804ceb4dbb094831307"
   }
  }
 },
 "nbformat": 4,
 "nbformat_minor": 5
}
