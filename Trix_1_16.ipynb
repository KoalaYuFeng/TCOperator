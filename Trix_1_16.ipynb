{
 "cells": [
  {
   "cell_type": "code",
   "execution_count": 598,
   "id": "0c273d44",
   "metadata": {},
   "outputs": [],
   "source": [
    "import networkx as nx\n",
    "import numpy as np\n",
    "import pandas as pd\n",
    "from scipy import sparse\n",
    "from scipy.sparse import csr_matrix\n",
    "from scipy.sparse import coo_matrix\n",
    "from time import perf_counter\n",
    "import threading\n",
    "from multiprocessing import Process, Pool\n",
    "import math"
   ]
  },
  {
   "cell_type": "code",
   "execution_count": 599,
   "id": "6c05dd4f",
   "metadata": {},
   "outputs": [],
   "source": [
    "## filename = './datasets/facebook_combined.txt'\n",
    "filename = './datasets/ca-CSphd.mtx'"
   ]
  },
  {
   "cell_type": "code",
   "execution_count": 600,
   "id": "ed42537c",
   "metadata": {},
   "outputs": [],
   "source": [
    "t0 = perf_counter()\n",
    "testgraph = nx.read_edgelist(filename, comments='#', delimiter=None, create_using=nx.Graph, nodetype=None, data=True, edgetype=None, encoding='utf-8')\n",
    "t_load = perf_counter() - t0"
   ]
  },
  {
   "cell_type": "code",
   "execution_count": 601,
   "id": "4751cca7",
   "metadata": {},
   "outputs": [
    {
     "name": "stdout",
     "output_type": "stream",
     "text": [
      "[   0  313  627  941 1254 1568 1882]\n"
     ]
    }
   ],
   "source": [
    "## define the partition index, need to add partition function here\n",
    "t_partition_start = perf_counter()\n",
    "adj_matrix_dim = len(testgraph.nodes)\n",
    "partition_num = 6 ## can be set a variable, equals to thread numbers.\n",
    "partition_index = np.zeros(partition_num + 1, dtype=np.int32)\n",
    "for i in range(partition_num):\n",
    "    partition_index[i+1] = np.int32(adj_matrix_dim*(i+1)/partition_num)\n",
    "    ## partition_index[i+1] = np.int32(adj_matrix_dim*(math.pow(0.717, partition_num-1-i)))\n",
    "print(partition_index)"
   ]
  },
  {
   "cell_type": "code",
   "execution_count": 602,
   "id": "ded5e187",
   "metadata": {},
   "outputs": [],
   "source": [
    "## use multi-thread method to implement graph partition, function defination\n",
    "def partion_multi_process (processID, edge_list, index_list):\n",
    "    graph = nx.DiGraph()\n",
    "    for edge_in_list in edge_list:\n",
    "        if ((int(edge_in_list[1]) >= index_list[processID]) and (int(edge_in_list[1]) < index_list[processID+1])):\n",
    "            graph.add_edge(edge_in_list[0], edge_in_list[1])\n",
    "    return graph\n",
    "\n",
    "process_pool = Pool(partition_num)\n",
    "result_pool = []\n",
    "for i in range(partition_num):\n",
    "    result_pool.append(process_pool.apply_async(func=partion_multi_process, args=(i, testgraph.edges, partition_index)))"
   ]
  },
  {
   "cell_type": "code",
   "execution_count": 603,
   "id": "14e4179c",
   "metadata": {},
   "outputs": [],
   "source": [
    "process_pool.close()\n",
    "process_pool.join()\n",
    "\n",
    "G_part = []\n",
    "\n",
    "for i in range(partition_num):\n",
    "    G_part.append(result_pool[i].get())\n"
   ]
  },
  {
   "cell_type": "code",
   "execution_count": 604,
   "id": "dcb55829",
   "metadata": {},
   "outputs": [],
   "source": [
    "## single thread to implement graph partition\n",
    "\n",
    "# for edge_list in testgraph.edges:\n",
    "#     for i in range(partition_num):\n",
    "#         if ((int(edge_list[1]) >= partition_index[i]) and (int(edge_list[1]) < partition_index[i+1])):\n",
    "#             G_part[i].add_edge(edge_list[0], edge_list[1])\n",
    "\n",
    "# for i in range(partition_num):\n",
    "#     print(G_part[i])"
   ]
  },
  {
   "cell_type": "code",
   "execution_count": 605,
   "id": "dcfbcabe",
   "metadata": {},
   "outputs": [],
   "source": [
    "## triangle count in sub-graphs (need be parallel)\n",
    "# triangle_count = 0\n",
    "# # node_triangle = np.zeros(len(testgraph.nodes))\n",
    "# for g_index in range(partition_num): ## could be executed parallelly in different machines\n",
    "#     for edge_list in testgraph.edges: ## traverse all the edges in the original graph\n",
    "#         if ((G_part[g_index].has_node(edge_list[0])) and (G_part[g_index].has_node(edge_list[1]))):\n",
    "#             srcSet = G_part[g_index].adj[edge_list[0]]\n",
    "#             dstSet = G_part[g_index].adj[edge_list[1]]\n",
    "#             for node_obj in srcSet:\n",
    "#                 if node_obj in dstSet:\n",
    "#                     triangle_count += 1\n",
    "#                     # node_triangle[int(edge_list[0])] += 1\n",
    "#                     # node_triangle[int(edge_list[1])] += 1\n",
    "#                     # node_triangle[int(node_obj)] += 1\n",
    "\n",
    "# print (triangle_count)\n",
    "## print (node_triangle)\n"
   ]
  },
  {
   "cell_type": "code",
   "execution_count": 606,
   "id": "47020a2c",
   "metadata": {},
   "outputs": [
    {
     "name": "stdout",
     "output_type": "stream",
     "text": [
      "0.4876450151205063\n",
      "8\n"
     ]
    }
   ],
   "source": [
    "## multi-processors processing\n",
    "def intersection_multi_process (processID, graph_part, graph_whole):\n",
    "    triangle_count = 0\n",
    "    for edge_list in graph_whole.edges: ## traverse all the edges in the original graph\n",
    "        if ((graph_part.has_node(edge_list[0])) and (graph_part.has_node(edge_list[1]))):\n",
    "            srcSet = graph_part.adj[edge_list[0]]\n",
    "            dstSet = graph_part.adj[edge_list[1]]\n",
    "            for node_obj in srcSet:\n",
    "                if node_obj in dstSet:\n",
    "                    triangle_count += 1\n",
    "    return triangle_count\n",
    "\n",
    "intersection_pool = Pool(partition_num)\n",
    "final_result_pool = []\n",
    "for i in range(partition_num):\n",
    "    final_result_pool.append(intersection_pool.apply_async(func=intersection_multi_process, args=(i, G_part[i], testgraph)))\n",
    "\n",
    "intersection_pool.close()\n",
    "intersection_pool.join()\n",
    "\n",
    "result = 0\n",
    "for i in range(partition_num):\n",
    "    result += int(final_result_pool[i].get())\n",
    "\n",
    "t_partition_end = perf_counter()\n",
    "print(t_partition_end - t_partition_start)\n",
    "print(result)"
   ]
  },
  {
   "cell_type": "code",
   "execution_count": 607,
   "id": "ba1185bb",
   "metadata": {},
   "outputs": [],
   "source": [
    "testgraph_golden = nx.read_edgelist(filename, comments='#', delimiter=None, create_using=None, nodetype=None, data=True, edgetype=None, encoding='utf-8')"
   ]
  },
  {
   "cell_type": "code",
   "execution_count": 608,
   "id": "53912243",
   "metadata": {},
   "outputs": [
    {
     "name": "stdout",
     "output_type": "stream",
     "text": [
      "8\n"
     ]
    }
   ],
   "source": [
    "triangle_golden = nx.triangles(testgraph_golden)\n",
    "result_golden = int(sum(triangle_golden.values())/3)\n",
    "print (result_golden)\n",
    "## print (triangle_golden)"
   ]
  }
 ],
 "metadata": {
  "kernelspec": {
   "display_name": "Python 3.9.12 ('base')",
   "language": "python",
   "name": "python3"
  },
  "language_info": {
   "codemirror_mode": {
    "name": "ipython",
    "version": 3
   },
   "file_extension": ".py",
   "mimetype": "text/x-python",
   "name": "python",
   "nbconvert_exporter": "python",
   "pygments_lexer": "ipython3",
   "version": "3.9.12"
  },
  "vscode": {
   "interpreter": {
    "hash": "af5396d4be46ec3020c80c084ef73256e98ba9fce54ee804ceb4dbb094831307"
   }
  }
 },
 "nbformat": 4,
 "nbformat_minor": 5
}
